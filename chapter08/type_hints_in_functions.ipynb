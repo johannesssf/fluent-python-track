{
 "cells": [
  {
   "attachments": {},
   "cell_type": "markdown",
   "metadata": {},
   "source": [
    "# Type Hints in Functions"
   ]
  },
  {
   "attachments": {},
   "cell_type": "markdown",
   "metadata": {},
   "source": [
    "## Types Are Defined by Supported Operations"
   ]
  },
  {
   "cell_type": "code",
   "execution_count": null,
   "metadata": {},
   "outputs": [],
   "source": [
    "# may be numeric (int, complex, Fraction, numpy.int32, etc)\n",
    "# but it may also be a sequence (str, tuple, list, array, etc), or any other type that implements\n",
    "# or inherits a __mul__ method that accepts an int argument\n",
    "def double(x):\n",
    "    return x * 2"
   ]
  },
  {
   "cell_type": "code",
   "execution_count": null,
   "metadata": {},
   "outputs": [],
   "source": [
    "# annotated double\n",
    "from collections import abc\n",
    "\n",
    "def double(x: abc.Sequence):\n",
    "    return x * 2"
   ]
  },
  {
   "cell_type": "code",
   "execution_count": null,
   "metadata": {},
   "outputs": [],
   "source": [
    "from birds import *\n",
    "\n",
    "woody = Bird()\n",
    "alert(woody)  #1"
   ]
  },
  {
   "cell_type": "code",
   "execution_count": null,
   "metadata": {},
   "outputs": [],
   "source": [
    "alert_duck(woody)  #2"
   ]
  },
  {
   "cell_type": "code",
   "execution_count": null,
   "metadata": {},
   "outputs": [],
   "source": [
    "alert_bird(woody)  #3"
   ]
  },
  {
   "attachments": {},
   "cell_type": "markdown",
   "metadata": {},
   "source": [
    "## Types Usable in Annotations"
   ]
  },
  {
   "attachments": {},
   "cell_type": "markdown",
   "metadata": {},
   "source": [
    "### The Any Type"
   ]
  },
  {
   "cell_type": "code",
   "execution_count": null,
   "metadata": {},
   "outputs": [],
   "source": [
    "from typing import Any\n",
    "\n",
    "# when a type checker sees an untyped function like this\n",
    "def double(x):\n",
    "    return x * 2\n",
    "\n",
    "# it assumes this\n",
    "def double(x: Any) -> Any:\n",
    "    return x * 2\n",
    "\n",
    "# Any is assumed to support every possible operation"
   ]
  },
  {
   "attachments": {},
   "cell_type": "markdown",
   "metadata": {},
   "source": [
    "#### Subtype-of versus consistent-with"
   ]
  },
  {
   "cell_type": "code",
   "execution_count": null,
   "metadata": {},
   "outputs": [],
   "source": [
    "class T1:\n",
    "    ...\n",
    "\n",
    "class T2(T1):\n",
    "    ...\n",
    "\n",
    "def f1(p: T1) -> None:\n",
    "    ...\n",
    "\n",
    "o2 = T2()\n",
    "f1(o2)\n",
    "# The call of f1(o2) is an application of the Liskov Substitution Principle (LSP). It defines the\n",
    "# _is subtype-of_ in terms of supported operations: if an object of type T2 subistitutes an object\n",
    "# of type T1 and the program still behaves correctly, then T2 is subtype-of T1"
   ]
  },
  {
   "cell_type": "code",
   "execution_count": null,
   "metadata": {},
   "outputs": [],
   "source": [
    "def f2(p: T2) -> None:\n",
    "    ...\n",
    "\n",
    "o1 = T1()\n",
    "f2(o1)  # type error\n",
    "# From the point of view of supported operations, this make perfect sense: as a subclass,\n",
    "# T2 inherits and must support all operations that T1 does. So an instance of T2 can be used\n",
    "# anywhere an instance of T1 is expected. But the reverse is not necessary true: T2 may\n",
    "# implement additional methos, so an instance of T1 may not be used everywhere an instace\n",
    "# of T2 is expected"
   ]
  },
  {
   "cell_type": "code",
   "execution_count": null,
   "metadata": {},
   "outputs": [],
   "source": [
    "def f3(p: Any) -> None:\n",
    "    ...\n",
    "\n",
    "o0 = object()\n",
    "o1 = T1()\n",
    "o2 = T2()\n",
    "\n",
    "f3(o0)  #\n",
    "f3(o1)  # all OK: rule #2\n",
    "f3(o2)  #\n",
    "\n",
    "def f4():  # implicity return type: 'Any'\n",
    "    ...\n",
    "\n",
    "o4 = f4()  # inferred type: 'Any'\n",
    "\n",
    "f1(o4)  #\n",
    "f2(o4)  # all OK: rule #3\n",
    "f3(o4)  #"
   ]
  },
  {
   "attachments": {},
   "cell_type": "markdown",
   "metadata": {},
   "source": [
    "### Optional and Union Types"
   ]
  },
  {
   "cell_type": "code",
   "execution_count": null,
   "metadata": {},
   "outputs": [],
   "source": [
    "# using the Optional special type for None as Default\n",
    "from typing import Optional\n",
    "\n",
    "def show_count(count: int, singular: str, plural: Optional[str] = None) -> str:\n",
    "    ...\n",
    "\n",
    "# Better syntax for Optional and Union in Python 3.10\n",
    "def show_count(count: int, plural: str | None) -> str:\n",
    "    ..."
   ]
  },
  {
   "cell_type": "code",
   "execution_count": null,
   "metadata": {},
   "outputs": [],
   "source": [
    "# an example of a function that takes a str, but may return a str or float\n",
    "from typing import Union\n",
    "\n",
    "def parse_token(token: str) -> Union[str, float]:\n",
    "    try:\n",
    "        return float(token)\n",
    "    except ValueError:\n",
    "        return token"
   ]
  },
  {
   "attachments": {},
   "cell_type": "markdown",
   "metadata": {},
   "source": [
    "### Generic Collections"
   ]
  },
  {
   "cell_type": "code",
   "execution_count": null,
   "metadata": {},
   "outputs": [],
   "source": [
    "# tokenize with type hints for Python >= 3.9\n",
    "def tokenize(text: str) -> list[str]:\n",
    "    return text.upper().split()"
   ]
  },
  {
   "attachments": {},
   "cell_type": "markdown",
   "metadata": {},
   "source": [
    "### Tuple Types"
   ]
  },
  {
   "cell_type": "code",
   "execution_count": null,
   "metadata": {},
   "outputs": [],
   "source": [
    "# Tuples as records\n",
    "# use the tuple built-in and declare types of the fields within []\n",
    "\n",
    "# coordinates.py with the geohash function\n",
    "from geolib import geohash as gh  # type: ignore #1\n",
    "\n",
    "PRECISION = 9\n",
    "\n",
    "def geohash(lat_lon: tuple[float, float]) -> str:  #2\n",
    "    return gh.encode(*lat_lon, PRECISION)"
   ]
  },
  {
   "cell_type": "code",
   "execution_count": null,
   "metadata": {},
   "outputs": [],
   "source": [
    "# Tuples as records with named fields\n",
    "# to annotate a tuple with many fields, or specific types the code uses in many places\n",
    "# prefer using typing.NamedTuple\n",
    "from typing import NamedTuple\n",
    "from geolib import geohash as gh  # type: ignore\n",
    "\n",
    "PRECISION = 9\n",
    "\n",
    "class Coordinate(NamedTuple):\n",
    "    lat: float\n",
    "    lon: float\n",
    "\n",
    "def geohash(lat_lon: Coordinate) -> str:\n",
    "    return gh.encode(*lat_lon, PRECISION)"
   ]
  },
  {
   "cell_type": "code",
   "execution_count": null,
   "metadata": {},
   "outputs": [],
   "source": [
    "# Tuples as immutable sequences\n",
    "# to annotate tuples of unspecified length that are used as immutable lists, you must specify\n",
    "# a single type, followed by a comma and ... (Python's ellipsis)\n",
    "# e.g. tuples[int, ...] is a tuple with int items\n",
    "# there is no way to specify fiedls of different types for tuples of arbitrary length\n",
    "# stuff: tuple[Any, ...] has the same effect as stuff: tuple, meaning stuff is a tuple of\n",
    "# unspecified length with objects of any type\n",
    "from collections.abc import Sequence\n",
    "\n",
    "def columnize(sequence: Sequence[str], num_columns: int = 0) -> list[tuple[str, ...]]:\n",
    "    if num_columns == 0:\n",
    "        num_columns = round(len(sequence) ** 0.5)\n",
    "    \n",
    "    num_rows, reminder = divmod(len(sequence), num_columns)\n",
    "    num_rows += bool(reminder)\n",
    "\n",
    "    return [tuple(sequence[i::num_rows]) for i in range(num_rows)]\n",
    "\n",
    "\n",
    "animals = 'drake fawn heron ibex koala lynx tahr xerus yak zapus'.split()\n",
    "table = columnize(animals)\n",
    "table"
   ]
  },
  {
   "attachments": {},
   "cell_type": "markdown",
   "metadata": {},
   "source": [
    "### Generic Mapping"
   ]
  },
  {
   "cell_type": "code",
   "execution_count": null,
   "metadata": {},
   "outputs": [],
   "source": [
    "# charindex.py\n",
    "import sys\n",
    "import re\n",
    "import unicodedata\n",
    "from collections.abc import Iterator\n",
    "\n",
    "\n",
    "RE_WORD = re.compile(r'\\w+')\n",
    "STOP_CODE = sys.maxunicode + 1\n",
    "\n",
    "def tokenize(text: str) -> Iterator[str]:  #1\n",
    "    \"\"\"return iterable of uppercased words\"\"\"\n",
    "    for match in RE_WORD.finditer(text):\n",
    "        yield match.group().upper()\n",
    "\n",
    "def name_index(start: int = 32, end: int = STOP_CODE) -> dict[str, set[str]]:\n",
    "    index: dict[str, set[str]] = {}  #2\n",
    "    for char in (chr(i) for i in range(start, end)):\n",
    "        if name := unicodedata.name(char, ''):  #3\n",
    "            for word in tokenize(name):\n",
    "                index.setdefault(word, set()).add(char)\n",
    "    \n",
    "    return index"
   ]
  },
  {
   "cell_type": "code",
   "execution_count": null,
   "metadata": {},
   "outputs": [],
   "source": [
    "index = name_index(32, 65)\n",
    "index"
   ]
  },
  {
   "cell_type": "code",
   "execution_count": null,
   "metadata": {},
   "outputs": [],
   "source": [
    "index['SIGN']"
   ]
  },
  {
   "cell_type": "code",
   "execution_count": null,
   "metadata": {},
   "outputs": [],
   "source": [
    "index['DIGIT']"
   ]
  },
  {
   "cell_type": "code",
   "execution_count": null,
   "metadata": {},
   "outputs": [],
   "source": [
    "index['DIGIT'], index['EIGHT']"
   ]
  },
  {
   "cell_type": "code",
   "execution_count": null,
   "metadata": {},
   "outputs": [],
   "source": [
    "index['DIGIT'] & index['EIGHT']"
   ]
  },
  {
   "attachments": {},
   "cell_type": "markdown",
   "metadata": {},
   "source": [
    "### Abstract Base Classes"
   ]
  },
  {
   "cell_type": "code",
   "execution_count": null,
   "metadata": {},
   "outputs": [],
   "source": [
    "from collections.abc import Mapping\n",
    "\n",
    "# Using abc.Mapping allows the caller to provide an instace of dict, defaultDict, ChainMap, a\n",
    "# UserDict subclass, or any other type that is a subtype-of Mapping\n",
    "def name2hex(name: str, color_map: Mapping[str, int]) -> str:\n",
    "    ...\n",
    "\n",
    "\n",
    "# Now color_map must be a dict or one of its subtypes, such as defaultDict or OrderedDict.\n",
    "# In particular, a subclass of collections.UserDict would not pass the type check for color_map.\n",
    "def name2hex(name: str, color_map: dict[str, int]) -> str:\n",
    "    ...\n"
   ]
  },
  {
   "attachments": {},
   "cell_type": "markdown",
   "metadata": {},
   "source": [
    "**The return of a function is always a concrete object, so the return type hint shoud be a concrete type.**"
   ]
  },
  {
   "cell_type": "code",
   "execution_count": null,
   "metadata": {},
   "outputs": [],
   "source": [
    "def tokenize(text: str) -> list[str]:\n",
    "    return text.upper().split()"
   ]
  },
  {
   "attachments": {},
   "cell_type": "markdown",
   "metadata": {},
   "source": [
    "### Iterable"
   ]
  },
  {
   "cell_type": "code",
   "execution_count": 1,
   "metadata": {},
   "outputs": [],
   "source": [
    "# replace.py\n",
    "from collections.abc import Iterable\n",
    "\n",
    "FromTo = tuple[str, str]  #1\n",
    "\n",
    "def zip_replace(text: str, changes: Iterable[FromTo]) -> str:  #2\n",
    "    for from_, to in changes:\n",
    "        text = text.replace(from_, to)\n",
    "    return text"
   ]
  },
  {
   "cell_type": "code",
   "execution_count": 2,
   "metadata": {},
   "outputs": [
    {
     "data": {
      "text/plain": [
       "'m4d sk1ll3d n00b p0wn3d l33t'"
      ]
     },
     "execution_count": 2,
     "metadata": {},
     "output_type": "execute_result"
    }
   ],
   "source": [
    "l33t = [('a', '4'), ('e', '3'), ('i', '1'), ('o', '0')]\n",
    "text = 'mad skilled noob powned leet'\n",
    "zip_replace(text, l33t)"
   ]
  },
  {
   "attachments": {},
   "cell_type": "markdown",
   "metadata": {},
   "source": [
    "### Parametrized Generics and TypeVar"
   ]
  },
  {
   "cell_type": "code",
   "execution_count": null,
   "metadata": {},
   "outputs": [],
   "source": [
    "# sample.py\n",
    "from collections.abc import Sequence\n",
    "from random import shuffle\n",
    "from typing import TypeVar\n",
    "\n",
    "T = TypeVar('T')\n",
    "\n",
    "def sample(population: Sequence[T], size: int) -> list[T]:\n",
    "    if size < 1:\n",
    "        raise ValueError('size must be >= 1')\n",
    "    result = list(population)\n",
    "    shuffle(result)\n",
    "    return result[:size]"
   ]
  },
  {
   "cell_type": "code",
   "execution_count": null,
   "metadata": {},
   "outputs": [],
   "source": [
    "# mode_float.py: mode that operates on float and subtypes\n",
    "from collections import Counter\n",
    "from collections.abc import Iterable\n",
    "\n",
    "def mode(data: Iterable[float]) -> float:\n",
    "    pairs = Counter(data).most_common(1)\n",
    "    if len(pairs) == 0:\n",
    "        raise ValueError('no mode for empty data')\n",
    "    return pairs[0][0]"
   ]
  },
  {
   "cell_type": "code",
   "execution_count": null,
   "metadata": {},
   "outputs": [],
   "source": [
    "# Improved signature, but to permissive\n",
    "from collections.abc import Iterable\n",
    "from typing import TypeVar\n",
    "\n",
    "T = TypeVar('T')\n",
    "\n",
    "# every iterable is consistent-with Iterable[T], including iterables of unhashable types that\n",
    "# collections.Counter cannot handle\n",
    "def mode(data: Iterable[T]) -> T:\n",
    "    ...\n"
   ]
  },
  {
   "cell_type": "code",
   "execution_count": null,
   "metadata": {},
   "outputs": [],
   "source": [
    "# Restricted TypeVar\n",
    "from collections.abc import Iterable\n",
    "from decimal import Decimal\n",
    "from fractions import Fraction\n",
    "from typing import TypeVar\n",
    "\n",
    "NumberT = TypeVar('T', float, Decimal, Fraction)\n",
    "\n",
    "def mode(data: Iterable[NumberT]) -> NumberT:\n",
    "    ..."
   ]
  },
  {
   "cell_type": "code",
   "execution_count": null,
   "metadata": {},
   "outputs": [],
   "source": [
    "# Bounded TypeVar\n",
    "\n",
    "# mode_hashable.py: same as previous example, with a more flexible signature\n",
    "from collections import Counter\n",
    "from collections.abc import Iterable, Hashable\n",
    "from typing import TypeVar\n",
    "\n",
    "HashableT = TypeVar('HashableT', bound=Hashable)\n",
    "\n",
    "def mode(data: Iterable[HashableT]) -> HashableT:\n",
    "    pairs = Counter(data).most_common(1)\n",
    "    if len(pairs) == 0:\n",
    "        raise ValueError('no mode for empty data')\n",
    "    return pairs[0][0]"
   ]
  },
  {
   "cell_type": "code",
   "execution_count": null,
   "metadata": {},
   "outputs": [],
   "source": [
    "# The AnyStr predefined type variable\n",
    "from typing import TypeVar #, AnyStr\n",
    "\n",
    "# defined as\n",
    "AnyStr = TypeVar('AnyStr', bytes, str)\n",
    "\n",
    "# AnyStr is used in many functions that accept either bytes or str, and return values of the given type"
   ]
  },
  {
   "attachments": {},
   "cell_type": "markdown",
   "metadata": {},
   "source": [
    "### Static Protocols"
   ]
  },
  {
   "cell_type": "code",
   "execution_count": 1,
   "metadata": {},
   "outputs": [
    {
     "name": "stdout",
     "output_type": "stream",
     "text": [
      "[7, 6, 5]\n",
      "['pear', 'mango', 'kiwi']\n",
      "[(5, 'mango'), (4, 'pear'), (5, 'apple'), (4, 'kiwi'), (6, 'banana')]\n",
      "[(5, 'mango'), (4, 'pear'), (5, 'apple'), (4, 'kiwi'), (6, 'banana')] 3\n"
     ]
    }
   ],
   "source": [
    "from top import top\n",
    "\n",
    "print(top([4, 1, 5, 2, 6, 7, 3], 3))\n",
    "\n",
    "l = 'mango pear apple kiwi banana'.split()\n",
    "print(top(l, 3))\n",
    "\n",
    "l2 = [(len(s), s) for s in l]\n",
    "print(l2)\n",
    "\n",
    "print(l2, 3)"
   ]
  },
  {
   "attachments": {},
   "cell_type": "markdown",
   "metadata": {},
   "source": [
    "### Callable"
   ]
  },
  {
   "cell_type": "code",
   "execution_count": 2,
   "metadata": {},
   "outputs": [
    {
     "name": "stdout",
     "output_type": "stream",
     "text": [
      "0x2a\n",
      "42\n"
     ]
    }
   ],
   "source": [
    "# illustrating variance\n",
    "from collections.abc import Callable\n",
    "\n",
    "def update(  #1\n",
    "        probe: Callable[[], float],  #2\n",
    "        display: Callable[[float], None]  #3\n",
    "    ) -> None:\n",
    "    temperature = probe()\n",
    "    # imagine lots of control code here\n",
    "    display(temperature)\n",
    "\n",
    "\n",
    "def prob_ok() -> int:  #4\n",
    "    return 42\n",
    "\n",
    "def display_wrong(temperature: int) -> None:  #5\n",
    "    print(hex(temperature))\n",
    "\n",
    "\n",
    "update(prob_ok, display_wrong)  #6\n",
    "\n",
    "def display_ok(temperature: complex) -> None:  #7\n",
    "    print(temperature)\n",
    "\n",
    "update(prob_ok, display_ok)"
   ]
  },
  {
   "attachments": {},
   "cell_type": "markdown",
   "metadata": {},
   "source": [
    "### NoReturn\n",
    "This is a special type used only to annotate the return type of functions that never return. Usually to raise exceptions.\n",
    "There are dozen of such functions in the standard library.\n",
    "For example sys.exit() raises SystemExit to terminate the Python process."
   ]
  },
  {
   "attachments": {},
   "cell_type": "markdown",
   "metadata": {},
   "source": [
    "## Annotating Positional Only and Variadic Parameters"
   ]
  }
 ],
 "metadata": {
  "kernelspec": {
   "display_name": "venv",
   "language": "python",
   "name": "python3"
  },
  "language_info": {
   "codemirror_mode": {
    "name": "ipython",
    "version": 3
   },
   "file_extension": ".py",
   "mimetype": "text/x-python",
   "name": "python",
   "nbconvert_exporter": "python",
   "pygments_lexer": "ipython3",
   "version": "3.10.6"
  },
  "orig_nbformat": 4
 },
 "nbformat": 4,
 "nbformat_minor": 2
}
