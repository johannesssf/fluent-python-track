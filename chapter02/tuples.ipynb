{
 "cells": [
  {
   "cell_type": "markdown",
   "id": "551dadc5",
   "metadata": {},
   "source": [
    "## Tuples used as records"
   ]
  },
  {
   "cell_type": "code",
   "execution_count": null,
   "metadata": {},
   "outputs": [],
   "source": [
    "lax_coordinates = (33.9425, -118.408056)\n",
    "city, year, pop, chg, area = ('Tokyo', 2003, 32_450, 0.66, 8014)\n",
    "travelers_ids = [('USA', '31195855'), ('BRA', 'CE342567'), ('ESP', 'XDA205856')]\n",
    "\n",
    "for passport in sorted(travelers_ids):\n",
    "    print('%s/%s' % passport)\n",
    "\n",
    "for country, _ in travelers_ids:\n",
    "    print(country)"
   ]
  },
  {
   "cell_type": "markdown",
   "id": "a087378a",
   "metadata": {},
   "source": [
    "## Tuples as Immutable Lists\n",
    "This brings two keys benefits:\n",
    "* **Clarity** - When you see a tuple in code, you know its length will never change\n",
    "* **Performance** - A _tuple_ uses less memory than a _list_ of the same length, and it allows Python to do some optimizations.\n",
    "However, be aware that the immutability of a _tuple_ only applies to the references contained in it. References in a tuple _cannot_ be deleted or replaced. But if one of those references points to a mutable object, and that object is changed, then the value of the _tuple_ changes."
   ]
  },
  {
   "cell_type": "code",
   "execution_count": null,
   "id": "86305faa",
   "metadata": {},
   "outputs": [],
   "source": [
    "a = (10, 'alpha', [1, 2])\n",
    "b = (10, 'alpha', [1, 2])\n",
    "\n",
    "id(a[-1]), id(b[-1])"
   ]
  },
  {
   "cell_type": "code",
   "execution_count": null,
   "id": "74cac4f0",
   "metadata": {},
   "outputs": [],
   "source": [
    "a == b"
   ]
  },
  {
   "cell_type": "code",
   "execution_count": null,
   "id": "55511d4d",
   "metadata": {},
   "outputs": [],
   "source": [
    "b[-1].append(99)\n",
    "a == b"
   ]
  },
  {
   "cell_type": "code",
   "execution_count": null,
   "id": "193d10e8",
   "metadata": {},
   "outputs": [],
   "source": [
    "b"
   ]
  },
  {
   "cell_type": "code",
   "execution_count": null,
   "id": "f5485d04",
   "metadata": {},
   "outputs": [],
   "source": [
    "hash(a)"
   ]
  },
  {
   "cell_type": "code",
   "execution_count": null,
   "id": "b9898f97",
   "metadata": {},
   "outputs": [],
   "source": [
    "c = (10, 'alpha', (1, 2))\n",
    "hash(c)"
   ]
  },
  {
   "cell_type": "markdown",
   "id": "31664a45",
   "metadata": {},
   "source": [
    "## Unpacking Sequences and Iterables"
   ]
  },
  {
   "cell_type": "code",
   "execution_count": null,
   "id": "a9e64633",
   "metadata": {},
   "outputs": [],
   "source": [
    "# Swapping variables with unpacking\n",
    "a = 1\n",
    "b = 2\n",
    "print(a, b)\n",
    "a, b = b, a\n",
    "print(a, b)"
   ]
  },
  {
   "cell_type": "code",
   "execution_count": null,
   "id": "34c570b4",
   "metadata": {},
   "outputs": [],
   "source": [
    "# Using * to Grab Excess Items\n",
    "a, b, *rest = (1, 2, 3, 4)\n",
    "print(a, b)\n",
    "print(rest)"
   ]
  },
  {
   "cell_type": "code",
   "execution_count": null,
   "id": "9bbff89e",
   "metadata": {},
   "outputs": [],
   "source": [
    "# Unpacking parameters with * to function\n",
    "print(divmod(20, 8))\n",
    "\n",
    "t = (20, 8)\n",
    "print(divmod(*t))"
   ]
  },
  {
   "cell_type": "code",
   "execution_count": null,
   "id": "fed2e601",
   "metadata": {},
   "outputs": [],
   "source": [
    "# Unpacking with * in Function Calls and Sequence Literals\n",
    "def fun(a, b, c, d, *rest):\n",
    "    return a, b, c, d, rest\n",
    "\n",
    "fun(*[1, 2], 3, *range(4, 7))"
   ]
  },
  {
   "cell_type": "code",
   "execution_count": null,
   "id": "35ba862c",
   "metadata": {},
   "outputs": [],
   "source": [
    "# Nested Unpacking\n",
    "metro_areas = [\n",
    "    ('Tokyo', 'JP', 36.933, (35.689722, 139.691667)),\n",
    "    ('Delhi NCR', 'IN', 21.935, (28.613889, 77.208889)),\n",
    "    ('Mexico City', 'MX', 20.142, (19.433333, -99.133333)),\n",
    "    ('New York-Newark', 'US', 20.104, (40.808611, -74.020386)),\n",
    "    ('São Paulo', 'BR', 19.649, (-23.547778, -46.635833)),\n",
    "]\n",
    "\n",
    "def main():\n",
    "    print(f'{\"\":15} | {\"latitude\":>9} | {\"longitude\":>9}')\n",
    "    for name, _, _, (lat, lon) in metro_areas:\n",
    "        if lon <= 0:\n",
    "            print(f'{name:15} | {lat:9.4f} | {lon:9.4f}')\n",
    "\n",
    "main()"
   ]
  },
  {
   "cell_type": "markdown",
   "id": "dd4a9107",
   "metadata": {},
   "source": [
    "## Pattern Matching with Sequences"
   ]
  },
  {
   "cell_type": "code",
   "execution_count": null,
   "id": "c711f324",
   "metadata": {},
   "outputs": [],
   "source": [
    "class Robot:\n",
    "    def handle_command(self, message):\n",
    "        match message: #1 (the number of items must mach as well)\n",
    "            case ['BEEPER', frequency, times]: #2\n",
    "                self.beep(times, frequency)\n",
    "            case ['NECK', angle]: #3\n",
    "                self.rotate_neck(angle)\n",
    "            case ['LED', ident, intensity]: #4\n",
    "                self.leds[ident].set_brightness(ident, intensity)\n",
    "            case ['LED', ident, red, green, blue]: #5\n",
    "                self.leds[ident].set_color(ident, red, green, blue)\n",
    "            case _: #6\n",
    "                raise InvalidCommand(message)\n"
   ]
  },
  {
   "cell_type": "code",
   "execution_count": null,
   "id": "e51d56e5",
   "metadata": {},
   "outputs": [],
   "source": [
    "# Destructuring nested tuples\n",
    "metro_areas = [\n",
    "    ('Tokyo', 'JP', 36.933, (35.689722, 139.691667)),\n",
    "    ('Delhi NCR', 'IN', 21.935, (28.613889, 77.208889)),\n",
    "    ('Mexico City', 'MX', 20.142, (19.433333, -99.133333)),\n",
    "    ('New York-Newark', 'US', 20.104, (40.808611, -74.020386)),\n",
    "    ('São Paulo', 'BR', 19.649, (-23.547778, -46.635833)),\n",
    "]\n",
    "\n",
    "def main():\n",
    "    print(f'{\"\":15} | {\"latitude\":>9} | {\"longitude\":>9}')\n",
    "    for record in metro_areas:\n",
    "        match record: #1\n",
    "            case [name, _, _, (lat, lon)] if lon <= 0: #2\n",
    "                print(f'{name:15} | {lat:>9.4f} | {lon:>9.4f}')\n",
    "\n",
    "main()"
   ]
  },
  {
   "cell_type": "code",
   "execution_count": null,
   "id": "dd3c8501",
   "metadata": {},
   "outputs": [],
   "source": [
    "a, b, *rest = (1, 2, 3, 4, 5)\n",
    "print(a, b, rest)\n",
    "\n",
    "a, b, *rest = ({\"a\": 1, \"b\": 2, \"c\": 3, \"d\": 4}).items()\n",
    "print(a, b, rest)"
   ]
  },
  {
   "cell_type": "markdown",
   "id": "9bcd3394",
   "metadata": {},
   "source": [
    "## Slicing"
   ]
  },
  {
   "cell_type": "code",
   "execution_count": null,
   "id": "680c0fa0",
   "metadata": {},
   "outputs": [],
   "source": [
    "# examples\n",
    "l = [10, 20, 30, 40, 50, 60]\n",
    "print(l[:2])\n",
    "print(l[2:])\n",
    "print(l[:3])\n",
    "print(l[3:])\n",
    "\n",
    "print(l[:9])\n",
    "print(l[-1:])\n",
    "print(l[:-1])\n",
    "\n",
    "s = \"bicycle\"\n",
    "print(s[::3])\n",
    "print(s[::-1])\n",
    "print(s[::-2])"
   ]
  },
  {
   "cell_type": "code",
   "execution_count": null,
   "id": "7880d633",
   "metadata": {},
   "outputs": [],
   "source": [
    "# Slice Objects\n",
    "invoice = \"\"\"\n",
    "0.....6.................................40........52...55........\n",
    "1909  Pimorony PiBrella                     $17.50    3    $52.50\n",
    "1489  6mm Tactile Switch x20                 $4.95    2     $9.90\n",
    "1510  Panavise Jr. - PV-201                 $28.00    1    $28.00\n",
    "1601  PiTFT Mini Kit 320x240                $34.95    1    $34.95\n",
    "\"\"\"\n",
    "SKU = slice(0, 6)\n",
    "DESCRIPTION = slice(6, 40)\n",
    "UNIT_PRICE = slice(40, 52)\n",
    "QUANTITY = slice(52, 55)\n",
    "ITEM_TOTAL = slice(55, None)\n",
    "line_items = invoice.split('\\n')[2:]\n",
    "for item in line_items:\n",
    "    print(item[UNIT_PRICE], item[DESCRIPTION])"
   ]
  },
  {
   "cell_type": "code",
   "execution_count": null,
   "id": "353a48f7",
   "metadata": {},
   "outputs": [],
   "source": [
    "# Multidimensional Slicing and Ellipsis (...)\n",
    "# Not in use in Python standard library\n",
    "s = \"johannes ferreira\"\n",
    "print(s[:8])\n",
    "print(s[9:])\n",
    "# print(s[9:...]) doesn't work"
   ]
  },
  {
   "cell_type": "code",
   "execution_count": 30,
   "id": "d25314e2",
   "metadata": {},
   "outputs": [
    {
     "name": "stdout",
     "output_type": "stream",
     "text": [
      "[0, 1, 2, 3, 4, 5, 6, 7, 8, 9]\n",
      "[2, 3, 4]\n",
      "[0, 1, 20, 30, 5, 6, 7, 8, 9]\n",
      "[6, 7]\n",
      "[0, 1, 20, 30, 5, 8, 9]\n",
      "[30, 8]\n",
      "[0, 1, 20, 11, 5, 22, 9]\n",
      "[0, 1, 20, 11, 5, 22, 9]\n",
      "[0, 1, 100, 22, 9]\n"
     ]
    }
   ],
   "source": [
    "# Assigning to Slices\n",
    "l = list(range(10))\n",
    "print(l)\n",
    "\n",
    "print(l[2:5])\n",
    "l[2:5] = [20, 30]\n",
    "print(l)\n",
    "\n",
    "print(l[5:7])\n",
    "del l[5:7]\n",
    "print(l)\n",
    "\n",
    "print(l[3::2])\n",
    "l[3::2] = [11, 22]\n",
    "print(l)\n",
    "\n",
    "# when the targe of the assignment is a slice, the righthand side must be a iterable object,\n",
    "# even if it has one item\n",
    "# l[2:5] = 100\n",
    "print(l)\n",
    "l[2:5] = [100]\n",
    "print(l)"
   ]
  },
  {
   "cell_type": "markdown",
   "id": "a359191a",
   "metadata": {},
   "source": [
    "## Using + and * with Sequences\n",
    "Both + and * always create a new object, and never change their operands."
   ]
  },
  {
   "cell_type": "code",
   "execution_count": 3,
   "id": "7fafe42a",
   "metadata": {},
   "outputs": [
    {
     "name": "stdout",
     "output_type": "stream",
     "text": [
      "139966277071168 [1, 2, 3]\n",
      "139966276473280 [1, 2, 3, 1, 2, 3]\n",
      "139966276601280 [1, 2, 3, 1, 2, 3, 1, 2, 3, 1, 2, 3]\n"
     ]
    }
   ],
   "source": [
    "l = [1, 2, 3]\n",
    "print(id(l), l)\n",
    "ll = l + l\n",
    "print(id(ll), ll)\n",
    "\n",
    "llll = l * 4\n",
    "print(id(llll), llll)"
   ]
  },
  {
   "cell_type": "code",
   "execution_count": 6,
   "id": "88a222ef",
   "metadata": {},
   "outputs": [
    {
     "name": "stdout",
     "output_type": "stream",
     "text": [
      "[['_', '_', '_'], ['_', '_', '_'], ['_', '_', '_']]\n",
      "[['_', '_', '_'], ['_', '_', 'X'], ['_', '_', '_']]\n",
      "[['_', '_', '_'], ['_', '_', '_'], ['_', '_', '_']]\n",
      "[['_', '_', 'O'], ['_', '_', 'O'], ['_', '_', 'O']]\n"
     ]
    }
   ],
   "source": [
    "# Building Lists of Lists\n",
    "board = [['_'] * 3 for i in range(3)] #1\n",
    "print(board)\n",
    "\n",
    "board[1][2] = 'X' #2\n",
    "print(board)\n",
    "\n",
    "# wrong way\n",
    "weird_board = [['_'] * 3] * 3 #1\n",
    "print(weird_board)\n",
    "\n",
    "weird_board[1][2] = 'O' #2\n",
    "print(weird_board)"
   ]
  },
  {
   "cell_type": "code",
   "execution_count": 9,
   "id": "7c7ca595",
   "metadata": {},
   "outputs": [
    {
     "name": "stdout",
     "output_type": "stream",
     "text": [
      "139966277181184 [1, 2, 3]\n",
      "139966277181184 [1, 2, 3, 1, 2, 3]\n",
      "139966275363136 (1, 2, 3)\n",
      "139966304020672 (1, 2, 3, 1, 2, 3)\n"
     ]
    }
   ],
   "source": [
    "# Augmented Assigned with Sequences\n",
    "l = [1, 2, 3]\n",
    "print(id(l), l)\n",
    "\n",
    "l *= 2\n",
    "print(id(l), l)\n",
    "\n",
    "t = (1, 2, 3)\n",
    "print(id(t), t)\n",
    "\n",
    "t *= 2\n",
    "print(id(t), t)"
   ]
  },
  {
   "cell_type": "code",
   "execution_count": 12,
   "id": "001b6f7a",
   "metadata": {},
   "outputs": [
    {
     "ename": "TypeError",
     "evalue": "'tuple' object does not support item assignment",
     "output_type": "error",
     "traceback": [
      "\u001b[0;31m---------------------------------------------------------------------------\u001b[0m",
      "\u001b[0;31mTypeError\u001b[0m                                 Traceback (most recent call last)",
      "Cell \u001b[0;32mIn[12], line 3\u001b[0m\n\u001b[1;32m      1\u001b[0m \u001b[39m# A += Assignment Puzzler\u001b[39;00m\n\u001b[1;32m      2\u001b[0m t \u001b[39m=\u001b[39m (\u001b[39m1\u001b[39m, \u001b[39m2\u001b[39m, [\u001b[39m30\u001b[39m, \u001b[39m40\u001b[39m])\n\u001b[0;32m----> 3\u001b[0m t[\u001b[39m2\u001b[39;49m] \u001b[39m+\u001b[39m\u001b[39m=\u001b[39m [\u001b[39m50\u001b[39m, \u001b[39m60\u001b[39m]\n",
      "\u001b[0;31mTypeError\u001b[0m: 'tuple' object does not support item assignment"
     ]
    }
   ],
   "source": [
    "# A += Assignment Puzzler\n",
    "t = (1, 2, [30, 40])\n",
    "t[2] += [50, 60]"
   ]
  },
  {
   "cell_type": "code",
   "execution_count": 13,
   "id": "d36c4556",
   "metadata": {},
   "outputs": [
    {
     "name": "stdout",
     "output_type": "stream",
     "text": [
      "(1, 2, [30, 40, 50, 60])\n"
     ]
    }
   ],
   "source": [
    "print(t)"
   ]
  },
  {
   "cell_type": "code",
   "execution_count": 14,
   "id": "38a0f3c0",
   "metadata": {},
   "outputs": [
    {
     "name": "stdout",
     "output_type": "stream",
     "text": [
      "  1           0 LOAD_NAME                0 (s)\n",
      "              2 LOAD_NAME                1 (a)\n",
      "              4 DUP_TOP_TWO\n",
      "              6 BINARY_SUBSCR\n",
      "              8 LOAD_NAME                2 (b)\n",
      "             10 INPLACE_ADD\n",
      "             12 ROT_THREE\n",
      "             14 STORE_SUBSCR\n",
      "             16 LOAD_CONST               0 (None)\n",
      "             18 RETURN_VALUE\n"
     ]
    }
   ],
   "source": [
    "import dis\n",
    "dis.dis('s[a] += b')"
   ]
  },
  {
   "cell_type": "markdown",
   "id": "9f43f9fa",
   "metadata": {},
   "source": [
    "## list.sort Versus the sorted Build-In\n",
    "The _list.sort_ method sorts a list **in place** -- that is, without making a copy. It returns _None_ to remind us that it changes the receiver and does not create a new list.\n",
    "\n",
    "In contrast, the built-in function _sorted_ creates a new list and returns it."
   ]
  },
  {
   "cell_type": "code",
   "execution_count": 8,
   "id": "82d8ce5e",
   "metadata": {},
   "outputs": [
    {
     "name": "stdout",
     "output_type": "stream",
     "text": [
      "['grape', 'raspberry', 'apple', 'banana']\n",
      "['apple', 'banana', 'grape', 'raspberry']\n",
      "['raspberry', 'grape', 'banana', 'apple']\n",
      "['grape', 'apple', 'banana', 'raspberry']\n",
      "['raspberry', 'banana', 'grape', 'apple']\n",
      "['grape', 'raspberry', 'apple', 'banana']\n",
      "['apple', 'banana', 'grape', 'raspberry']\n"
     ]
    }
   ],
   "source": [
    "fruits = ['grape', 'raspberry', 'apple', 'banana']\n",
    "print(fruits)\n",
    "print(sorted(fruits))\n",
    "print(sorted(fruits, reverse=True))\n",
    "print(sorted(fruits, key=len))\n",
    "print(sorted(fruits, key=len, reverse=True))\n",
    "print(fruits)\n",
    "\n",
    "fruits.sort()\n",
    "print(fruits)"
   ]
  },
  {
   "cell_type": "markdown",
   "id": "977b2be5",
   "metadata": {},
   "source": [
    "## When a List Is Not the Answer\n",
    "The _list_ type is flexible and easy to use, but depending on specific requirements, there are better options."
   ]
  },
  {
   "cell_type": "code",
   "execution_count": 14,
   "id": "5ca8532b",
   "metadata": {},
   "outputs": [],
   "source": [
    "# Arrays\n",
    "# If a list only contains numbers, an array.array is a more efficient replacement. Arrays support\n",
    "# all mutable sequence operations (including .pop, .insert, and .extend), as well as additional\n",
    "# methods for fast loading and saving, such as .frombytes and .tofile.\n",
    "\n",
    "from array import array\n",
    "from random import random\n",
    "\n",
    "floats = array('d', (random() for i in range(10**7)))"
   ]
  },
  {
   "cell_type": "code",
   "execution_count": 15,
   "id": "22dac5ff",
   "metadata": {},
   "outputs": [
    {
     "name": "stdout",
     "output_type": "stream",
     "text": [
      "0.5100603418095596\n"
     ]
    }
   ],
   "source": [
    "print(floats[-1])\n",
    "fp = open('floats.bin', 'wb')\n",
    "floats.tofile(fp)\n",
    "fp.close()"
   ]
  },
  {
   "cell_type": "code",
   "execution_count": 16,
   "id": "640064bb",
   "metadata": {},
   "outputs": [],
   "source": [
    "floats2 = array('d')\n",
    "fp = open('floats.bin', 'rb')\n",
    "floats2.fromfile(fp, 10**7)\n",
    "fp.close()"
   ]
  },
  {
   "cell_type": "code",
   "execution_count": 18,
   "id": "94b5e978",
   "metadata": {},
   "outputs": [
    {
     "name": "stdout",
     "output_type": "stream",
     "text": [
      "0.5100603418095596\n",
      "True\n",
      "140378123158368 140378123159328\n"
     ]
    }
   ],
   "source": [
    "print(floats2[-1])\n",
    "print(floats == floats2)\n",
    "print(id(floats), id(floats2))"
   ]
  },
  {
   "cell_type": "code",
   "execution_count": 1,
   "id": "318ed3f3",
   "metadata": {},
   "outputs": [
    {
     "name": "stdout",
     "output_type": "stream",
     "text": [
      "139702449077696 [0, 1, 2, 3, 4, 5]\n",
      "139702449011600 [[0, 1, 2], [3, 4, 5]]\n",
      "139702449011808 [[0, 1], [2, 3], [4, 5]]\n",
      "array('B', [0, 1, 2, 33, 22, 5])\n"
     ]
    }
   ],
   "source": [
    "# Memory Views\n",
    "\n",
    "# The built-in memoryview class is a shared-memory sequence type that lets you handle slices of\n",
    "# arrays without copying bytes.\n",
    "# A memoryview is essentially a generalized NumPy array structure in Python itself (without the math).\n",
    "# It allows you to share memory between data-structures (things like PIL images, SQLite databases,\n",
    "# NumPy arrays, etc) without first copying. This is very important for large data sets.\n",
    "\n",
    "from array import array\n",
    "\n",
    "octets = array('B', range(6)) #1\n",
    "m1 = memoryview(octets) #2\n",
    "print(id(m1), m1.tolist())\n",
    "\n",
    "m2 = m1.cast('B', [2, 3]) #3\n",
    "print(id(m2), m2.tolist())\n",
    "\n",
    "m3 = m1.cast('B', [3, 2]) #4\n",
    "print(id(m3), m3.tolist())\n",
    "\n",
    "m2[1,1] = 22 #5\n",
    "m3[1,1] = 33 #6\n",
    "print(octets) #7"
   ]
  },
  {
   "cell_type": "code",
   "execution_count": 3,
   "id": "1e61f01a",
   "metadata": {},
   "outputs": [
    {
     "name": "stdout",
     "output_type": "stream",
     "text": [
      "5\n",
      "-2\n",
      "[254, 255, 255, 255, 0, 0, 1, 0, 2, 0]\n",
      "array('h', [-2, -1, 1024, 1, 2])\n"
     ]
    }
   ],
   "source": [
    "numbers = array('h', [-2, -1, 0, 1, 2])\n",
    "memv = memoryview(numbers) #1\n",
    "print(len(memv))\n",
    "\n",
    "print(memv[0]) #2\n",
    "\n",
    "memv_oct = memv.cast('B') #3\n",
    "print(memv_oct.tolist()) #4\n",
    "\n",
    "memv_oct[5] = 4 #5\n",
    "print(numbers)"
   ]
  },
  {
   "cell_type": "code",
   "execution_count": 3,
   "id": "b754b0f9",
   "metadata": {},
   "outputs": [
    {
     "name": "stdout",
     "output_type": "stream",
     "text": [
      "[ 0  1  2  3  4  5  6  7  8  9 10 11]\n",
      "<class 'numpy.ndarray'>\n",
      "(12,)\n",
      "[[ 0  1  2  3]\n",
      " [ 4  5  6  7]\n",
      " [ 8  9 10 11]]\n",
      "[ 8  9 10 11]\n",
      "9\n",
      "[1 5 9]\n",
      "[[ 0  4  8]\n",
      " [ 1  5  9]\n",
      " [ 2  6 10]\n",
      " [ 3  7 11]]\n"
     ]
    }
   ],
   "source": [
    "# NumPy\n",
    "\n",
    "# For advanced array and matrix operations, NumPy is the reason why Python became mainstream in\n",
    "# scientific computing applications. NumPy implements multi-dimensional, homogeneous arrays and\n",
    "# matrix types that hold not only numbers but also user-defined records, and provides efficient\n",
    "# element-wise operations.\n",
    "\n",
    "import numpy as np\n",
    "\n",
    "a = np.arange(12)\n",
    "print(a)\n",
    "print(type(a))\n",
    "print(a.shape)\n",
    "\n",
    "a.shape = 3, 4\n",
    "print(a)\n",
    "print(a[2])\n",
    "print(a[2, 1])\n",
    "print(a[:, 1])\n",
    "print(a.transpose())"
   ]
  },
  {
   "cell_type": "code",
   "execution_count": 9,
   "id": "f36cbd1f",
   "metadata": {},
   "outputs": [
    {
     "name": "stdout",
     "output_type": "stream",
     "text": [
      "deque([0, 1, 2, 3, 4, 5, 6, 7, 8, 9], maxlen=10)\n",
      "deque([7, 8, 9, 0, 1, 2, 3, 4, 5, 6], maxlen=10)\n",
      "deque([1, 2, 3, 4, 5, 6, 7, 8, 9, 0], maxlen=10)\n",
      "deque([-1, 1, 2, 3, 4, 5, 6, 7, 8, 9], maxlen=10)\n",
      "deque([3, 4, 5, 6, 7, 8, 9, 11, 22, 33], maxlen=10)\n",
      "deque([40, 30, 20, 10, 3, 4, 5, 6, 7, 8], maxlen=10)\n"
     ]
    }
   ],
   "source": [
    "# Deques and Other Queues\n",
    "\n",
    "# Inserting and removing from the head of a list (the 0-index end) is costly because the etire\n",
    "# list must be shifted in memory.\n",
    "# The class collections.deque is a thread-save double-ended queue designed for fast inserting\n",
    "# and removing from both ends. It is also the way to go if you need to keep a list of \"last\n",
    "# seen items\" of something of that nature, because a deque can be bounded -- i.e., created with\n",
    "# a fixed maximum length. If a bounded deque is full, when you add a new item, it discards an\n",
    "# item from the opposite end.\n",
    "\n",
    "from collections import deque\n",
    "\n",
    "dq = deque(range(10), maxlen=10) #1\n",
    "print(dq)\n",
    "\n",
    "dq.rotate(3) #2\n",
    "print(dq)\n",
    "\n",
    "dq.rotate(-4)\n",
    "print(dq)\n",
    "\n",
    "dq.appendleft(-1) #3\n",
    "print(dq)\n",
    "\n",
    "dq.extend([11, 22, 33]) #4\n",
    "print(dq)\n",
    "\n",
    "dq.extendleft([10, 20, 30, 40]) #5\n",
    "print(dq)"
   ]
  }
 ],
 "metadata": {
  "kernelspec": {
   "display_name": "Python 3 (ipykernel)",
   "language": "python",
   "name": "python3"
  },
  "language_info": {
   "codemirror_mode": {
    "name": "ipython",
    "version": 3
   },
   "file_extension": ".py",
   "mimetype": "text/x-python",
   "name": "python",
   "nbconvert_exporter": "python",
   "pygments_lexer": "ipython3",
   "version": "3.10.6"
  },
  "vscode": {
   "interpreter": {
    "hash": "72aa4ea1feeccb10182fff5f4cd214f887f90def7291277a804fe856b018f575"
   }
  }
 },
 "nbformat": 4,
 "nbformat_minor": 5
}
