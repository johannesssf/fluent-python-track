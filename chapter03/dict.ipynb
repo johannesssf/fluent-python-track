{
 "cells": [
  {
   "attachments": {},
   "cell_type": "markdown",
   "metadata": {},
   "source": [
    "# Dictionaries and Sets"
   ]
  },
  {
   "attachments": {},
   "cell_type": "markdown",
   "metadata": {},
   "source": [
    "## Modern dict Syntax"
   ]
  },
  {
   "attachments": {},
   "cell_type": "markdown",
   "metadata": {},
   "source": [
    "### dict Comprehensions"
   ]
  },
  {
   "cell_type": "code",
   "execution_count": 2,
   "metadata": {},
   "outputs": [
    {
     "name": "stdout",
     "output_type": "stream",
     "text": [
      "{'Bangladesh': 880, 'Brazil': 55, 'China': 86, 'India': 91, 'Indonesia': 62, 'Japan': 81, 'Nigeria': 234, 'Pakistan': 92, 'Russia': 7, 'United States': 1}\n"
     ]
    },
    {
     "data": {
      "text/plain": [
       "{55: 'BRAZIL', 62: 'INDONESIA', 7: 'RUSSIA', 1: 'UNITED STATES'}"
      ]
     },
     "execution_count": 2,
     "metadata": {},
     "output_type": "execute_result"
    }
   ],
   "source": [
    "dial_codes = [ #1\n",
    "    (880, 'Bangladesh'),\n",
    "    (55, 'Brazil'),\n",
    "    (86, 'China'),\n",
    "    (91, 'India'),\n",
    "    (62, 'Indonesia'),\n",
    "    (81, 'Japan'),\n",
    "    (234, 'Nigeria'),\n",
    "    (92, 'Pakistan'),\n",
    "    (7, 'Russia'),\n",
    "    (1, 'United States'),\n",
    "]\n",
    "\n",
    "country_dial = {country: code for code, country in dial_codes} #2\n",
    "print(country_dial)\n",
    "\n",
    "{code: country.upper() for country, code in sorted(country_dial.items()) if code < 70} #3"
   ]
  },
  {
   "attachments": {},
   "cell_type": "markdown",
   "metadata": {},
   "source": [
    "### Unpacking Mappings"
   ]
  },
  {
   "cell_type": "code",
   "execution_count": 6,
   "metadata": {},
   "outputs": [
    {
     "name": "stdout",
     "output_type": "stream",
     "text": [
      "{'x': 1, 'y': 2, 'z': 3}\n",
      "{'a': 0, 'x': 4, 'y': 2, 'z': 3}\n"
     ]
    }
   ],
   "source": [
    "# We can apply ** to more than one argument in a function call. This works when keys are all\n",
    "# strings and unique across all arguments (because duplicate keywords arguments are forbidden)\n",
    "def dump(**kwargs):\n",
    "    return kwargs\n",
    "\n",
    "print(dump(**{'x': 1}, y=2, **{'z': 3}))\n",
    "\n",
    "# ** can be used inside a dict literal -- also multiple times\n",
    "d = {'a': 0, **{'x': 1}, 'y': 2, **{'z': 3, 'x': 4}} # duplicated key 'x'\n",
    "print(d)"
   ]
  },
  {
   "attachments": {},
   "cell_type": "markdown",
   "metadata": {},
   "source": [
    "### Merging Mappings with |"
   ]
  },
  {
   "cell_type": "code",
   "execution_count": 12,
   "metadata": {},
   "outputs": [
    {
     "name": "stdout",
     "output_type": "stream",
     "text": [
      "{'a': 2, 'b': 4, 'c': 6}\n",
      "{'a': 1, 'b': 3}\n",
      "{'a': 2, 'b': 4, 'c': 6}\n",
      "--------\n",
      "{'a': 1, 'b': 3}\n",
      "{'a': 2, 'b': 4, 'c': 6}\n",
      "{'a': 2, 'b': 4, 'c': 6}\n"
     ]
    }
   ],
   "source": [
    "# Python 3.9 supports using | and |= to merge mappings. This makes sense, since these are also\n",
    "# the set union operators. The | operator creates a new mapping\n",
    "d1 = {'a': 1, 'b': 3}\n",
    "d2 = {'a': 2, 'b': 4, 'c': 6}\n",
    "print(d1 | d2)\n",
    "print(d1)\n",
    "print(d2)\n",
    "\n",
    "# to update an existing mapping in place, use |=\n",
    "print('--------')\n",
    "print(d1)\n",
    "d1 |= d2\n",
    "print(d1)\n",
    "print(d2)"
   ]
  },
  {
   "attachments": {},
   "cell_type": "markdown",
   "metadata": {},
   "source": [
    "## Pattern Matching with Mappings"
   ]
  },
  {
   "cell_type": "markdown",
   "metadata": {},
   "source": []
  }
 ],
 "metadata": {
  "kernelspec": {
   "display_name": "Python 3",
   "language": "python",
   "name": "python3"
  },
  "language_info": {
   "codemirror_mode": {
    "name": "ipython",
    "version": 3
   },
   "file_extension": ".py",
   "mimetype": "text/x-python",
   "name": "python",
   "nbconvert_exporter": "python",
   "pygments_lexer": "ipython3",
   "version": "3.10.6"
  },
  "orig_nbformat": 4,
  "vscode": {
   "interpreter": {
    "hash": "916dbcbb3f70747c44a77c7bcd40155683ae19c65e1c03b4aa3499c5328201f1"
   }
  }
 },
 "nbformat": 4,
 "nbformat_minor": 2
}
